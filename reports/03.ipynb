{
 "cells": [
  {
   "cell_type": "markdown",
   "metadata": {},
   "source": [
    "# Projekt: YouTube trending videos"
   ]
  },
  {
   "cell_type": "markdown",
   "metadata": {},
   "source": [
    "### Wstęp"
   ]
  },
  {
   "cell_type": "markdown",
   "metadata": {},
   "source": [
    "Celem projektu jest przeprowadzenie procesu **odkrywania wiedzy** z danych dotyczących **filmów z serwisu YouTube**.\n",
    "Należy wskazać, jakie atrybuty powinien mieć przysłany film, aby trafił na **kartę `\"na czasie\"`**."
   ]
  },
  {
   "cell_type": "markdown",
   "metadata": {},
   "source": [
    "### Etap 3 - Ocena ważności atrybutów i ich ewentualna redukcja"
   ]
  },
  {
   "cell_type": "markdown",
   "metadata": {},
   "source": [
    "### Odrzucenie atrybutów, które zostały wygenerowane automatycznie, a nie wnoszą użytecznych informacji\n",
    "\n",
    "Część atrybutów została odrzucona już we wcześniejszych etapach.  \n",
    "Są to atrybuty, które zostały wygenerowane automatycznie, a nie wnoszą użytecznych informacji.  \n",
    "Przykładem jest np.:\n",
    "* badanie **wielkości liter** dla kolumny *publish_time*\n",
    "* **liczba wyrazów** dla *ratings_disabled*\n",
    "\n"
   ]
  },
  {
   "cell_type": "markdown",
   "metadata": {},
   "source": [
    "### Znalezienie korelacji między atrybutam"
   ]
  }
 ],
 "metadata": {
  "kernelspec": {
   "display_name": "Python 3",
   "language": "python",
   "name": "python3"
  },
  "language_info": {
   "codemirror_mode": {
    "name": "ipython",
    "version": 3
   },
   "file_extension": ".py",
   "mimetype": "text/x-python",
   "name": "python",
   "nbconvert_exporter": "python",
   "pygments_lexer": "ipython3",
   "version": "3.7.0"
  }
 },
 "nbformat": 4,
 "nbformat_minor": 4
}
