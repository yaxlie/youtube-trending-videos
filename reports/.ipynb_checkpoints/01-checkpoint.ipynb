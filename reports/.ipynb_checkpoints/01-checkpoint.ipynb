{
 "cells": [
  {
   "cell_type": "markdown",
   "metadata": {},
   "source": [
    "# Projekt: YouTube trending videos"
   ]
  },
  {
   "cell_type": "markdown",
   "metadata": {},
   "source": [
    "## Etap 1 - Atrybuty tekstowe"
   ]
  },
  {
   "cell_type": "markdown",
   "metadata": {},
   "source": [
    "### Wstęp"
   ]
  },
  {
   "cell_type": "markdown",
   "metadata": {},
   "source": [
    "Celem projektu jest przeprowadzenie procesu **odkrywania wiedzy** z danych dotyczących **filmów z serwisu YouTube**.\n",
    "Należy wskazać, jakie atrybuty powinien mieć przysłany film, aby trafił na **kartę `\"na czasie\"`**."
   ]
  },
  {
   "cell_type": "markdown",
   "metadata": {},
   "source": [
    "### Krótka specyfikacja zbioru danych"
   ]
  },
  {
   "attachments": {},
   "cell_type": "markdown",
   "metadata": {},
   "source": [
    "Do dyspozycji są 2 zbiory danych: ([dostępne tutaj](https://www.cs.put.poznan.pl/kmiazga/students/ped/youtube_data.zip))\n",
    "* **GB_videos_5p.csv** (`38916 wierszy`, `52 879 KB`)\n",
    "* **US_videos_5p.csv** (`40949 wierszy`, `61 654 KB`)\n",
    "\n",
    "W dalszej części sprawozdania, przedstawione zostaną dokładne statystyki i wyniki, uzyskane w wyniku przetwarzania atrybutów tekstowych z kolumn:\n",
    "\n",
    "|video_id|trending_date|title|publish_time|tags|views|likes|\n",
    "|-|-|-|-|-|-|-|\n",
    "\n",
    "|dislikes|comment_count|thumbnail_link|comments_disabled|ratings_disabled|video_error_or_removed|description|\n",
    "|-|-|-|-|-|-|-|\n",
    "\n",
    "Wyniki atrybutów wizualnych, zostaną przedstawione w kolejnym sprawozdaniu."
   ]
  },
  {
   "cell_type": "markdown",
   "metadata": {},
   "source": [
    "### Opis struktury projektu"
   ]
  },
  {
   "cell_type": "markdown",
   "metadata": {},
   "source": [
    "Projekt został napisany w języku `Python 3.7`. \n",
    "* Wykorzystane biblioteki zostały zapisane w pliku `youtube-project\\requirements.txt` oraz `youtube-project\\Dockerfile`\n",
    "* Sposób uruchomienia został opisany w pliku `youtube-project\\readme.md`\n",
    "\n",
    "**Najważniejsza część kodu**, która dotyczy tego etapu, znajduje się w pliku **`youtube-project\\src\\analyzers\\text_analyzers.py`**.  \n",
    "Są tam *Analyzer'y*, odpowiedzialne za przetwarzanie atrybutów tekstowych.  \n",
    "Każdy z nich został opisany w wyżej wspomnianym pliku."
   ]
  },
  {
   "cell_type": "markdown",
   "metadata": {},
   "source": [
    "### Wyniki analizy"
   ]
  },
  {
   "cell_type": "markdown",
   "metadata": {},
   "source": [
    "W wyniku uruchomienia *Analyzerów*, został wygenerowany poniższy plik `JSON`:"
   ]
  },
  {
   "cell_type": "markdown",
   "metadata": {},
   "source": [
    "``` json\n",
    "```"
   ]
  },
  {
   "cell_type": "code",
   "execution_count": 1,
   "metadata": {},
   "outputs": [
    {
     "ename": "ModuleNotFoundError",
     "evalue": "No module named 'chart_studio'",
     "output_type": "error",
     "traceback": [
      "\u001b[1;31m---------------------------------------------------------------------------\u001b[0m",
      "\u001b[1;31mModuleNotFoundError\u001b[0m                       Traceback (most recent call last)",
      "\u001b[1;32m<ipython-input-1-e01ed84f643f>\u001b[0m in \u001b[0;36m<module>\u001b[1;34m\u001b[0m\n\u001b[1;32m----> 1\u001b[1;33m \u001b[1;32mimport\u001b[0m \u001b[0mchart_studio\u001b[0m\u001b[1;33m.\u001b[0m\u001b[0mplotly\u001b[0m \u001b[1;32mas\u001b[0m \u001b[0mpy\u001b[0m\u001b[1;33m\u001b[0m\u001b[1;33m\u001b[0m\u001b[0m\n\u001b[0m\u001b[0;32m      2\u001b[0m \u001b[1;32mimport\u001b[0m \u001b[0mplotly\u001b[0m\u001b[1;33m.\u001b[0m\u001b[0mfigure_factory\u001b[0m \u001b[1;32mas\u001b[0m \u001b[0mff\u001b[0m\u001b[1;33m\u001b[0m\u001b[1;33m\u001b[0m\u001b[0m\n\u001b[0;32m      3\u001b[0m \u001b[1;33m\u001b[0m\u001b[0m\n\u001b[0;32m      4\u001b[0m \u001b[1;31m# with open('text-analysis.json') as json_file:\u001b[0m\u001b[1;33m\u001b[0m\u001b[1;33m\u001b[0m\u001b[1;33m\u001b[0m\u001b[0m\n\u001b[0;32m      5\u001b[0m \u001b[1;31m#     data = json.load(json_file)\u001b[0m\u001b[1;33m\u001b[0m\u001b[1;33m\u001b[0m\u001b[1;33m\u001b[0m\u001b[0m\n",
      "\u001b[1;31mModuleNotFoundError\u001b[0m: No module named 'chart_studio'"
     ]
    }
   ],
   "source": [
    "import chart_studio.plotly as py\n",
    "import plotly.figure_factory as ff\n",
    "\n",
    "# with open('text-analysis.json') as json_file:\n",
    "#     data = json.load(json_file)"
   ]
  }
 ],
 "metadata": {
  "kernelspec": {
   "display_name": "Python 3",
   "language": "python",
   "name": "python3"
  },
  "language_info": {
   "codemirror_mode": {
    "name": "ipython",
    "version": 3
   },
   "file_extension": ".py",
   "mimetype": "text/x-python",
   "name": "python",
   "nbconvert_exporter": "python",
   "pygments_lexer": "ipython3",
   "version": "3.8.0"
  }
 },
 "nbformat": 4,
 "nbformat_minor": 4
}
