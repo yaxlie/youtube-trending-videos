{
 "cells": [
  {
   "cell_type": "markdown",
   "metadata": {},
   "source": [
    "# Projekt: YouTube trending videos"
   ]
  },
  {
   "cell_type": "markdown",
   "metadata": {},
   "source": [
    "### Wstęp"
   ]
  },
  {
   "cell_type": "markdown",
   "metadata": {},
   "source": [
    "Celem projektu jest przeprowadzenie procesu **odkrywania wiedzy** z danych dotyczących **filmów z serwisu YouTube**.\n",
    "Należy wskazać, jakie atrybuty powinien mieć przysłany film, aby trafił na **kartę `\"na czasie\"`**."
   ]
  },
  {
   "cell_type": "markdown",
   "metadata": {},
   "source": [
    "### Etap 3 - Ocena ważności atrybutów i ich ewentualna redukcja"
   ]
  },
  {
   "cell_type": "markdown",
   "metadata": {},
   "source": [
    "#### Odrzucenie atrybutów, które zostały wygenerowane automatycznie, a nie wnoszą użytecznych informacji\n",
    "\n",
    "Dla niektórych kolumn, przedstawione we wcześniejszych etapach atrybuty, nie mają sensu. Zostaną one usunięte w pierwszej kolejności.\n",
    "\n"
   ]
  },
  {
   "cell_type": "code",
   "execution_count": null,
   "metadata": {},
   "outputs": [],
   "source": [
    "Pomoże w tym obliczenie **entropii** dla każego z atrybutów, przedstawionych we wcześniejszych etapach.  \n",
    "\n",
    "Interesujące atrybuty, będą miały niską entropię. Frankowi powinno zależeć na znalezieniu sposobu, który w każdej sytuacji pozwoli znaleźć się na karcie \"Na czasie\", dlatego "
   ]
  }
 ],
 "metadata": {
  "kernelspec": {
   "display_name": "Python 3",
   "language": "python",
   "name": "python3"
  },
  "language_info": {
   "codemirror_mode": {
    "name": "ipython",
    "version": 3
   },
   "file_extension": ".py",
   "mimetype": "text/x-python",
   "name": "python",
   "nbconvert_exporter": "python",
   "pygments_lexer": "ipython3",
   "version": "3.7.0"
  }
 },
 "nbformat": 4,
 "nbformat_minor": 4
}
